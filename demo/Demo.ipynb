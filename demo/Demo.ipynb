{
 "cells": [
  {
   "cell_type": "code",
   "execution_count": 1,
   "id": "90addf87",
   "metadata": {},
   "outputs": [],
   "source": [
    "import sys\n",
    "import os\n",
    "import os.path as osp\n",
    "import argparse\n",
    "import numpy as np\n",
    "import cv2\n",
    "import torch\n",
    "import json\n",
    "from torch.nn.parallel.data_parallel import DataParallel\n",
    "import torch.backends.cudnn as cudnn\n",
    "\n",
    "sys.path.insert(0, osp.join('..', 'main'))\n",
    "sys.path.insert(0, osp.join('..', 'data'))\n",
    "sys.path.insert(0, osp.join('..', 'common'))\n",
    "from config import cfg\n",
    "from model import get_model\n",
    "from utils.preprocessing import load_video, augmentation, generate_patch_image, process_pose\n",
    "from utils.vis import vis_keypoints\n",
    "from SNUEngine import SNUModel\n",
    "from skeleton_function import skeletons, transform_joint, TSM_edges, angle_list, center_of_mass_1\n",
    "import time\n",
    "import mediapipe as mp\n",
    "mp_pose = mp.solutions.pose\n",
    "pose = mp_pose.Pose()"
   ]
  },
  {
   "cell_type": "code",
   "execution_count": 2,
   "id": "d2769611",
   "metadata": {},
   "outputs": [],
   "source": [
    "with open(osp.join('exercise_dict_1.json')) as f:\n",
    "    exer_dict = json.load(f)\n",
    "exer_num = len(exer_dict)\n",
    "joint_num = 24"
   ]
  },
  {
   "cell_type": "code",
   "execution_count": 70,
   "id": "71156c18",
   "metadata": {},
   "outputs": [
    {
     "data": {
      "text/plain": [
       "-1"
      ]
     },
     "execution_count": 70,
     "metadata": {},
     "output_type": "execute_result"
    }
   ],
   "source": [
    "TIMER"
   ]
  },
  {
   "cell_type": "code",
   "execution_count": 10,
   "id": "ef045e07",
   "metadata": {},
   "outputs": [],
   "source": [
    "img_path = './demo_input/Squat_1.mp4'\n",
    "TIMER = int(5)\n",
    "\n",
    "cap = cv2.VideoCapture(0)\n",
    "image_list = []\n",
    "sk_list = []\n",
    "sk_list_3d = []\n",
    "sk_com_3d = []\n",
    "a_list = []\n",
    "\n",
    "prev = time.time()\n",
    "while cap.isOpened():\n",
    "    ret, frame = cap.read()\n",
    "    if not ret:\n",
    "        print('END')\n",
    "        break\n",
    "\n",
    "    fps = cap.get(cv2.CAP_PROP_FPS)\n",
    "    # Recolor Image to RGB\n",
    "    h, w = frame.shape[:2]\n",
    "    \n",
    "    image = cv2.cvtColor(frame, cv2.COLOR_BGR2RGB)\n",
    "\n",
    "    # Make Detection\n",
    "\n",
    "    results = pose.process(image)\n",
    "\n",
    "    #Recolor back to BGR\n",
    "    image = cv2.cvtColor(image, cv2.COLOR_RGB2BGR)\n",
    "    \n",
    "    if TIMER >= 0:\n",
    "        font = cv2.FONT_HERSHEY_SIMPLEX\n",
    "        cv2.putText(image, str(TIMER), (50, 150), font, 6, (0, 0, 255), 5, cv2.LINE_AA)\n",
    "        cv2.imshow('Mediapipe Feed', image)\n",
    "        cur = time.time()\n",
    "        if cur-prev >= 1:\n",
    "            prev = cur\n",
    "            TIMER = TIMER-1\n",
    "        \n",
    "    else:\n",
    "        try:\n",
    "\n",
    "            image_list.append(frame)\n",
    "            lm = results.pose_landmarks\n",
    "            lm_2d = lm.landmark\n",
    "            lm_3d = results.pose_world_landmarks.landmark\n",
    "\n",
    "            joint_2d = transform_joint(lm_2d, 2)\n",
    "            joint_3d = transform_joint(lm_3d, 3)\n",
    "\n",
    "            joint_2d[:,0] = joint_2d[:,0]*w\n",
    "            joint_2d[:,1] = joint_2d[:,1]*h\n",
    "            joint_2d = joint_2d.astype(int)\n",
    "\n",
    "\n",
    "            sk_list.append(joint_2d)\n",
    "            sk_list_3d.append(joint_3d)\n",
    "\n",
    "            kp_list, com, com_3d = center_of_mass_1(joint_2d, joint_3d, frame)\n",
    "            sk_com_3d.append(com_3d)\n",
    "            com_x = int(com[0])\n",
    "            com_y = int(com[1])\n",
    "            cv2.circle(image, (com_x, com_y), 7, (0, 0, 255), -1)\n",
    "\n",
    "            ######\n",
    "            a_list.append(angle_list(joint_3d))\n",
    "            ######\n",
    "\n",
    "            for x, y in joint_2d:\n",
    "                cv2.circle(image, (x,y), 6, (255, 0, 255), -1)\n",
    "\n",
    "            for a,b in TSM_edges:\n",
    "                cv2.line(image, joint_2d[a], joint_2d[b], (0, 255, 0), 3, 4)\n",
    "\n",
    "        except:\n",
    "            pass\n",
    "\n",
    "        cv2.imshow('Mediapipe Feed', image)\n",
    "    \n",
    "    if cv2.waitKey(10) & 0xFF == ord('q'):\n",
    "        break\n",
    "\n",
    "cap.release()\n",
    "cv2.destroyAllWindows()"
   ]
  },
  {
   "cell_type": "code",
   "execution_count": 11,
   "id": "c6cbe155",
   "metadata": {},
   "outputs": [],
   "source": [
    "image_list = image_list[:-40]\n",
    "sk_list = sk_list[:-40]"
   ]
  },
  {
   "cell_type": "code",
   "execution_count": 12,
   "id": "1aa6b108",
   "metadata": {},
   "outputs": [
    {
     "data": {
      "text/plain": [
       "(182, 480, 640, 3)"
      ]
     },
     "execution_count": 12,
     "metadata": {},
     "output_type": "execute_result"
    }
   ],
   "source": [
    "np.array(image_list).shape #145"
   ]
  },
  {
   "cell_type": "code",
   "execution_count": 34,
   "id": "b11906d3",
   "metadata": {},
   "outputs": [],
   "source": [
    "image_list_1 = [image_list[15*i] for i in range(len(image_list)//15)]\n",
    "sk_list_1 = [sk_list[15*i] for i in range(len(sk_list)//15)]"
   ]
  },
  {
   "cell_type": "code",
   "execution_count": 32,
   "id": "eb50d462",
   "metadata": {},
   "outputs": [
    {
     "data": {
      "text/plain": [
       "(8, 24, 2)"
      ]
     },
     "execution_count": 32,
     "metadata": {},
     "output_type": "execute_result"
    }
   ],
   "source": [
    "np.array(sk_list_1).shape"
   ]
  },
  {
   "cell_type": "code",
   "execution_count": 16,
   "id": "0f3354e9",
   "metadata": {
    "scrolled": true
   },
   "outputs": [
    {
     "data": {
      "text/plain": [
       "(172, 24, 2)"
      ]
     },
     "execution_count": 16,
     "metadata": {},
     "output_type": "execute_result"
    }
   ],
   "source": [
    "np.array(sk_list).shape"
   ]
  },
  {
   "cell_type": "code",
   "execution_count": 47,
   "id": "e376cc4d",
   "metadata": {},
   "outputs": [
    {
     "name": "stdout",
     "output_type": "stream",
     "text": [
      ">>> Using GPU: 0\n",
      "Stage: exer\n",
      "Load checkpoint from ../output/model_dump/exer/snapshot_4.pth.tar\n",
      "Exercise type: 덤벨 벤트오버 로우\n"
     ]
    }
   ],
   "source": [
    "cudnn.benchmark = True\n",
    "cfg.set_args('0', 'exer', -1)\n",
    "model_path = '../output/model_dump/exer/snapshot_4.pth.tar'\n",
    "model = SNUModel(model_path, exer_num, joint_num)\n",
    "# exer_out = model.run_video(image_list, sk_list)\n",
    "exer_out = model.run_video(image_list_1, sk_list_1)\n",
    "exer_idx = np.argmax(exer_out)\n",
    "for k in exer_dict.keys():\n",
    "    if exer_dict[k]['exercise_idx'] == exer_idx:\n",
    "        exer_name = k\n",
    "        break\n",
    "print('Exercise type: ' + exer_name)"
   ]
  },
  {
   "cell_type": "code",
   "execution_count": 37,
   "id": "249c281d",
   "metadata": {
    "scrolled": false
   },
   "outputs": [
    {
     "data": {
      "text/plain": [
       "12"
      ]
     },
     "execution_count": 37,
     "metadata": {},
     "output_type": "execute_result"
    }
   ],
   "source": [
    "exer_out.argmax()"
   ]
  },
  {
   "cell_type": "code",
   "execution_count": 48,
   "id": "f77b7823",
   "metadata": {},
   "outputs": [
    {
     "data": {
      "text/plain": [
       "array([2.3478317e+00, 6.2128011e-02, 7.9478965e+00, 7.0054069e-02,\n",
       "       2.7207780e-01, 4.4003688e-03, 2.2900817e-01, 2.1297988e-02,\n",
       "       1.1526944e-01, 1.6241362e-02, 7.4037824e-05, 8.6727643e-01,\n",
       "       7.9681229e+01, 5.4108379e-03, 5.3556901e-01, 1.4250073e+00,\n",
       "       2.4538979e-02, 3.2098076e-01, 1.4471242e-03, 7.7987246e-02,\n",
       "       8.5539293e-01, 2.2472218e-01, 1.5636663e+00, 4.5380691e-01,\n",
       "       2.3374765e-01, 5.9221651e-02, 1.1481967e+00, 1.3869802e+00,\n",
       "       4.1549047e-03, 3.2054363e-03, 3.7322799e-03, 3.8341773e-03,\n",
       "       3.7581208e-03, 4.4987141e-03, 3.0326785e-03, 3.7723370e-03,\n",
       "       3.4297474e-03, 3.5108435e-03, 3.6497666e-03, 3.0256212e-03,\n",
       "       4.9353288e-03], dtype=float32)"
      ]
     },
     "execution_count": 48,
     "metadata": {},
     "output_type": "execute_result"
    }
   ],
   "source": [
    "exer_out*100"
   ]
  },
  {
   "cell_type": "code",
   "execution_count": 38,
   "id": "7bd11ed4",
   "metadata": {
    "scrolled": true
   },
   "outputs": [
    {
     "data": {
      "text/plain": [
       "dict_keys(['스탠딩 사이드 크런치', '스탠딩 니업', '버피 테스트', '스텝 포워드 다이나믹 런지', '스텝 백워드 다이나믹 런지', '사이드 런지', '크로스 런지', '굿모닝', '프런트 레이즈', '업라이트로우', '바벨 스티프 데드리프트', '바벨 로우', '덤벨 벤트오버 로우', '바벨 데드리프트', '바벨 스쿼트', '바벨 런지', '오버 헤드 프레스', '사이드 레터럴 레이즈', '바벨 컬 ', '덤벨 컬', '딥스', '풀업', '행잉 레그 레이즈', '랫풀 다운', '페이스 풀', '케이블 크런치', '케이블 푸시 다운', '로잉머신', '라잉 레그 레이즈', '크런치', '바이시클 크런치', '시저크로스', '힙쓰러스트', '플랭크', '푸시업', '니푸쉬업', 'Y - Exercise', '덤벨 체스트 플라이', '덤벨 인클라인 체스트 플라이', '덤벨 풀 오버', '라잉 트라이셉스 익스텐션'])"
      ]
     },
     "execution_count": 38,
     "metadata": {},
     "output_type": "execute_result"
    }
   ],
   "source": [
    "exer_dict.keys()"
   ]
  },
  {
   "cell_type": "code",
   "execution_count": 49,
   "id": "2aeb6d31",
   "metadata": {},
   "outputs": [
    {
     "data": {
      "text/plain": [
       "array([32, 40, 39,  3,  4,  5,  6,  7,  8,  9, 10, 38, 37, 13, 14, 36, 16,\n",
       "       17, 18, 19,  1, 21, 35, 23, 24, 25, 34, 33, 28, 29, 30, 31, 20, 26,\n",
       "       27, 11, 15, 12, 22,  2,  0], dtype=int64)"
      ]
     },
     "execution_count": 49,
     "metadata": {},
     "output_type": "execute_result"
    }
   ],
   "source": [
    "np.argpartition(exer_out, -5)"
   ]
  },
  {
   "cell_type": "code",
   "execution_count": 58,
   "id": "f3a4a1de",
   "metadata": {
    "scrolled": true
   },
   "outputs": [],
   "source": [
    "ind = np.argpartition(exer_out, -5)[-5:]"
   ]
  },
  {
   "cell_type": "code",
   "execution_count": 69,
   "id": "67d2ce7a",
   "metadata": {},
   "outputs": [
    {
     "name": "stdout",
     "output_type": "stream",
     "text": [
      "5 :  바벨 런지\n",
      "4 :  행잉 레그 레이즈\n",
      "3 :  스탠딩 사이드 크런치\n",
      "2 :  버피 테스트\n",
      "1 :  덤벨 벤트오버 로우\n"
     ]
    }
   ],
   "source": [
    "n = 5\n",
    "for i in ind[np.argsort(exer_out[ind])]:\n",
    "    for index, k in enumerate(exer_dict.keys()):\n",
    "        if i == index:\n",
    "            \n",
    "            print('%d : ' %(n), k)\n",
    "            n -= 1\n",
    "      "
   ]
  },
  {
   "cell_type": "code",
   "execution_count": null,
   "id": "b95d2cec",
   "metadata": {},
   "outputs": [],
   "source": []
  },
  {
   "cell_type": "code",
   "execution_count": null,
   "id": "9b1da5e0",
   "metadata": {},
   "outputs": [],
   "source": []
  },
  {
   "cell_type": "code",
   "execution_count": null,
   "id": "47dbe4eb",
   "metadata": {},
   "outputs": [],
   "source": []
  },
  {
   "cell_type": "code",
   "execution_count": null,
   "id": "d7642c23",
   "metadata": {},
   "outputs": [],
   "source": []
  },
  {
   "cell_type": "code",
   "execution_count": null,
   "id": "0370fb5b",
   "metadata": {},
   "outputs": [],
   "source": []
  },
  {
   "cell_type": "markdown",
   "id": "59be9038",
   "metadata": {},
   "source": [
    "### 상대적 평가를 하는 방법"
   ]
  },
  {
   "cell_type": "code",
   "execution_count": 13,
   "id": "b8174836",
   "metadata": {},
   "outputs": [],
   "source": [
    "arr = np.load('PyQt/data/list_set_1.npz')['image_list']"
   ]
  },
  {
   "cell_type": "code",
   "execution_count": 14,
   "id": "31019fbf",
   "metadata": {},
   "outputs": [],
   "source": [
    "for frame in arr:\n",
    "    img = frame.astype(np.uint8).copy() # np.float32 -> np.uint8\n",
    "    cv2.imshow('show', img)\n",
    "    if cv2.waitKey(1) & 0xFF == ord('q'):\n",
    "        break\n",
    "    time.sleep(0.03)\n",
    "cv2.destroyAllWindows()"
   ]
  },
  {
   "cell_type": "code",
   "execution_count": null,
   "id": "d38a1800",
   "metadata": {},
   "outputs": [],
   "source": []
  },
  {
   "cell_type": "code",
   "execution_count": null,
   "id": "ecc31589",
   "metadata": {},
   "outputs": [],
   "source": []
  },
  {
   "cell_type": "code",
   "execution_count": null,
   "id": "b7d1fa72",
   "metadata": {},
   "outputs": [],
   "source": []
  }
 ],
 "metadata": {
  "kernelspec": {
   "display_name": "[yeongju]",
   "language": "python",
   "name": "wyj"
  },
  "language_info": {
   "codemirror_mode": {
    "name": "ipython",
    "version": 3
   },
   "file_extension": ".py",
   "mimetype": "text/x-python",
   "name": "python",
   "nbconvert_exporter": "python",
   "pygments_lexer": "ipython3",
   "version": "3.7.11"
  }
 },
 "nbformat": 4,
 "nbformat_minor": 5
}
